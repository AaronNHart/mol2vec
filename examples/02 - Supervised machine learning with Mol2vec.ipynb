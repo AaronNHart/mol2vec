{
 "cells": [
  {
   "cell_type": "markdown",
   "metadata": {},
   "source": [
    "# Supervised machine learning with Mol2vec"
   ]
  },
  {
   "cell_type": "markdown",
   "metadata": {},
   "source": [
    "The notebooks illustrates how Mol2vec can be used to featurize and classify molecules using an Ames mutagenicity benchmark dataset by [Hansen et al.](http://pubs.acs.org/doi/abs/10.1021/ci900161g) as an example.\n",
    "* [Featurize the molecules using pre-trained Mol2vec model](#Featurize-the-molecules-using-pre-trained-Mol2vec-model)\n",
    "* [Train and validate Random Forest model trained using Mol2vec vectors](#Train-and-validate-Random-Forest-model-trained-using-Mol2vec-vectors)\n",
    "* [Featurize molecules from the command line](#Featurize-molecules-from-the-command-line)"
   ]
  },
  {
   "cell_type": "code",
   "execution_count": 1,
   "metadata": {
    "collapsed": true
   },
   "outputs": [],
   "source": [
    "% matplotlib inline"
   ]
  },
  {
   "cell_type": "code",
   "execution_count": 2,
   "metadata": {
    "collapsed": true
   },
   "outputs": [],
   "source": [
    "import numpy as np\n",
    "import pandas as pd\n",
    "import sys, os\n",
    "\n",
    "sys.path.append(os.path.dirname(os.path.dirname(os.getcwd()))+'/mol2vec')\n",
    "\n",
    "from rdkit import Chem\n",
    "from rdkit.Chem import PandasTools\n",
    "from rdkit.Chem.Draw import IPythonConsole\n",
    "\n",
    "from mol2vec.features import mol2alt_sentence, mol2sentence, MolSentence, DfVec, sentences2vec\n",
    "from gensim.models import word2vec"
   ]
  },
  {
   "cell_type": "markdown",
   "metadata": {},
   "source": [
    "Load the pre-processed [Ames](http://pubs.acs.org/doi/suppl/10.1021/ci900161g) dataset"
   ]
  },
  {
   "cell_type": "code",
   "execution_count": 3,
   "metadata": {
    "collapsed": true
   },
   "outputs": [],
   "source": [
    "df = PandasTools.LoadSDF('data/ames.sdf')"
   ]
  },
  {
   "cell_type": "code",
   "execution_count": 4,
   "metadata": {},
   "outputs": [
    {
     "data": {
      "text/html": [
       "<table border=\"1\" class=\"dataframe\">\n",
       "  <thead>\n",
       "    <tr style=\"text-align: right;\">\n",
       "      <th></th>\n",
       "      <th>ID</th>\n",
       "      <th>ROMol</th>\n",
       "      <th>class</th>\n",
       "    </tr>\n",
       "  </thead>\n",
       "  <tbody>\n",
       "    <tr>\n",
       "      <th>0</th>\n",
       "      <td>2475-33-4</td>\n",
       "      <td><img src=\"data:image/png;base64,iVBORw0KGgoAAAANSUhEUgAAAMgAAADICAIAAAAiOjnJAAAABmJLR0QA/wD/AP+gvaeTAAAgAElEQVR4nO2deVhTV/rH3yyEHRQDyL65sZRqFVqrv1osMJ0ZtWoVtEI3l9ZOS4UWu9ga6bi2nRIdlXG0rdAFF6YV1Ioo1YpVtoJoIGwSi4AkLEpUICTk/v44eo0sIbnJNQmcz9Onj8A5731z873nvPec95zDIAgCMBh9wzS0A5jhCRYWhhawsDC0gIWFoQUsLAwtYGFhaAELC0MLWFgYWsDCwtACFhaGFrCwMLSAhYWhBSwsDC1gYWFoAQsLQwtYWBhawMLC0AIWFoYWsLAwtICFhaEFLCwMLWBhYWgBCwtDC1hYGFrAwsLQAhYWhhawsDC0gIWFoQUsLAwtYGFhaAELC0MLWFgYWsDCwtACFhaGFrCwMLTANrQDxsjNmzd/+uknDQsvXLhw9OjRtPpjimBh9eXXX3/dt29fenq6huVzc3NXrFgxe/ZsWr0yORh412RVFArFlClTBAJBSEjIY489NmT5K1euFBUVBQUFlZaWstn4KX0AvhcP8Z///EcgEPj6+p47d47D4axfv15N4c8++0yhUAQFBQkEgj179vzjH/94ZH6aAATmPu3t7VwuFwB+/vlngiB6enrU37qenh6CIFA0Nnr06NbWVkN/AiMCt1gPWL9+fWtr6+zZs+fPnw8ALBbrn//8p5ryLBYLABYsWBAZGZmTk5OUlLRjx45H5KvRg2OsewiFwscff1ypVJaWlmoSXalSUVHx+OOPA0BJSYm2dYcreBzrHvHx8XK5/M0336SgjICAgFWrVikUivj4eDp8M0kM3RcbBUeOHAGA0aNHt7S0ULPQ1tY2ZswYAMjMzNSvbyYKFhYhk8kmTJgAADt27NDFzvbt2wHAz8+vu7tbX76ZLlhYxNatWwHA398fveVRRi6Xo25027Zt+vLNdBnpwhKLxfb29gCQnZ2tu7XTp08DgK2tbVNTk+7WTJqRLqzXX38dAObNm6cvg3PnzgWA5cuX68ugiTKihxukUqm/v39LS0t5efn48eP1YrOmpiYwMNDR0VEoFNrZ2enFpikyoocbGAyGtbU1k8m0sLCora2Nior6+uuvqZnat29fRERERUWFhYUFk8m0trZmMBj69dbEMHSTaWCio6MBYOnSpSidwcnJ6datW9oakUqlLi4uAHDgwIElS5YAwJIlS+jw1oQY6cK6fv26tbU1APz222/PPPMMACQmJmpr5P333weAp59++vz58wwGw9LS8tq1a3R4a0KMdGERBMHj8QBgypQpxcXFTCaTw+FUVVVpXr22ttbc3JzJZObn54eEhAAAj8ejzVmTAQuL6Ozs9PLyAoB9+/YtX74cAObOnat59Tlz5gDAihUr9u7dCwDu7u537tyhz1tTAQuLIAjixx9/RAFWTU0NGtY6ceKEJhXJgavq6moUZqWnp9PtrUmAhXWP//u//wOAtWvXfv7556DZQLxcLg8KCgKAL774IjExEQCmT5+uVCofjcNGDhbWPUpKSlCAJRAI0NTh9u3b1Vfh8/kA4OfnV1FRgcKswsLCR+Ot8YOF9QByFD4zMxMpRqFQDFZYoVD4+fkBQGZmJh5t78+IHnnvg0QimTBhQkdHx4kTJ6qrq1966SWUqTwYra2tP/74Y2BgYHh4uK2tbVVVFQqzMAAjfoC0D9u2bQNtMh3IMOvzzz+n2zfTArdYD9HT0xMYGFhbW/vcc8898cQTQ5YvKSnJzc0dN25ceXk5h8N5BB6aCngxxUNwOJz58+fv378/Nzc3NzdXkypcLnf+/PlYVX3ALdZDdHV1TZo0qb6+fvHixdOmTRuyfFFRUUZGhpubW1VVFZoawtzD0H2xcYFWqE6ZMqW3t1eT8r29vXgaZ0CwsB5QX19vZWXFYDDOnTunea0LFy6giWeRSESba6YHFtYDoqKiAOCll17StuLSpUsBIDo6mg6vTBQsrHvokvFC5t6cPXuWDt9MkRGdQUqiVCrXrFlDEMSHH36IMh20wt3dHc0Vrlmzpre3lwYHTRBDK9so+O9//wsAHh4ed+/epWahs7PT29sbAPbu3atf30wULCxCKpWOHTsWAA4ePKiLnQMHDgDV5ObhBxYW8d577wHA008/rXvGC0pufv/99/XimEkzrAdI9+8HgUD1F0Vc7sHWVtXfuLq6fvzxx3K5vKCgQJMRUfWUlpaGhISwWKxNmzY1Nzer/imayw15+NIQFASvvqrjFY0XQytb31y8SCQlER9+SLS2EvPmEQCq/+XMmtXn47u6ugLAypUr9XX9FStWkGZVyZk1q48zxLx5D3k7vBh2LRaPB0lJ0NICBw+CuzvU1qr+sczO7pRUSv4ok8m++eab5ubmuro6Z2dnvVxfLBb7+vqOHTv29ddfNzc3J38fYWf3uMqlAQDGjYPS0gfevv22XhwwEob1JHRlJRQWqv5C6ul5ob6e/FGhUIjFYplMJpFI9CUsiUQik8nEYnFBQYHqdrdPenqCyqXR5fVyRSPF0E2mvkGdywcfaNgVoizksLAwfV0/IiKCNKuKuq4QeTu8GHZdoSr5+dDUpPqLWnPzyzKZ6m9GjRoVHR3d2tr6008/LViwQMcL/vTTTy+++KKDg8PBgwelD3d8webm4x6+NLi6wlNP6XhF48XQyjY8O3fuBABfX9+uri5d7MhkMrSzyK5du/Tlm+mChUUoFIrg4GAA2Lx5sy52Nm3aBAABAQFyuVxfvpkuWFgEQRAoWdTGxqaxsZGahebmZrRp0cmTJ/Xrm4mChXUPFGC98sor1Kq//PLLALBw4UK9OmXCDOvgXRvq6uoCAwNlMll+fn5oaKhWdf/444/Q0FA2my0QCPS1gZupg9Nm7uHr64syZ959912tHjaCINasWaNUKt977z2sqgcYtsE0Km7fvo2mYr777jvNa6WlpQGAs7NzR0cHfb6ZHFhYD/Htt98CgJub2+3btzUpf/fuXU9PTwDYv38/3b6ZFjjGegilUvnkk08WFxcHBARo0q/V1NRUVFRMmzatoKCAycRxxQOG9Vyh9jCZzJkzZyK5VFRUaFLF3t5+5syZWFV9wC3WQ7S3t48fP769vf2TTz6ZOnXqkOWLi4s3bdo0atSompoa9TuIjDgM3RcbF2+++SYAhIeHa17l+eefB4DVq1fT55UpgoX1AIFAwGaz2Wx2aWlpdHT0kMtWz507Fx0dffnyZTMzMxaLdenSpUfjp0mAhfUAlPGyZs0atFXfhAkT1G+8hnJj+Hz+u+++C3rNvRkGYGHd4/DhwwDg4OBQU1ODTh48duyY+ipHjx4FgNGjR5MBVkZGxqPx1vjBwiIIgujq6vLx8QGAlJQUrcIsMsDavXs3AHh6elJemTjMwMIiCIJAh4oHBgaWlZWhMOvKlSuaVKyoqEABVklJCToWeuPGjXR7axJgYRENDQ02NjYAkJOTQ4ZZmlcnA6xff/0VAKysrP7880/6vDUVsLCImJgYAFi0aFFGRgYKs1q1yUBvb29HAdb//ve/F198EQBiY2Pp89ZUGOnCunjxIoPBMDc3Ly8vHzduHAqztDWCAiwfHx+hUGhhYcFgMPLy8ujw1oQY0cLq6OhAO9iuW7cOHRX+2GOPqRliGAyFQoFOg96+ffvHH38MAMHBwSN8B4eRNaWjUEBFxZ8XL2YXFhYWFhYKhUJXV9eOjo7GxkYzM7Pk5OSnnnrq2WefpWD57Nmz+fn58fHxcrnczc3N3t6+qanJ398/NDQ0NDR0+vTIgAAf9oiamDW0smmnqYk4cIBISCBmziSsrIhnnrlEfnYOh2NmZgYAZ86c0dflzpw5AwBmZmaq+yg/88wOKyti5kwiIYE4cIAYCSeRDythffopcfgwkZ5OXL9ObNlCEASRnk58/PGDJaIMBhEZeSsmJmbHjh35+fkymYwcaNDL0hqFQkEOOqAs5x07dsTExERGljEYD9wIDx/Az2G2g+mw6gq//BK6umD8eJg5E77+GuztobQUFiyAr7+G0NB7/40e/VCV7u7ugIAAkUhEDo3qQkpKyltvveXp6SkUCq2srFT/dPMmFBbe+8/HBxwd+/qZlATe3jpe35gwtLL1yRdfEBcuECtWaNcSkJM5Wo0y9IccdxhyYoean6aFodPT8vPhs8/go4+grU0v9qZPB5FIuyqLFi2KiIhob2/fuHGjLpdOSkpqbW0NCwtDo1nqoeCnRuj7flLHwMJev54gCEIiIf79b32ZXLqU8PEhcnO1qEImzAgEAmoXFQqFFJJncnMJHx9i6VJq1xwIGu4nNQzdYtHA1asgEoGlpRZVAgMDly9frlAo1qxZQ+2iCQkJcrl85cqVKHjXEAsLEImgro7aNY0agwbvCgWcOAGnT4NMBt7eMGkSzJ+vu1V3d2hshGvXQKt9tcmk5GPHjv3973/X6orHjh2bO3fuqFGjqqurHR0dNa947Rr4+IC7O1y/rtUFB+HIEcjLA6US7t6FuDiYNAkMN3RmUGEVF0NICEyZAp9+CgsXwrx5kJmpo8neXrCwgN5e6OoClf30NCI5OTkhIWHcuHECgcDc3Ly3txcdnToYR48eZbFYPT09wcHBVVVVycnJ2jZ4PT1gYQEsFnR3A4ulnbcDMG8eHD0KP/8MSUlw6RIUF4MGaft0Ych+uKmJACCcnIj8fAKAmDpVd5ONjfdMUkAulwcGBgLAl19+SRBET0+P+luHDsv84osvAGDSpEkanp3ZB0dHAkBPQ6ZPPEEAEAUF94zeuKEPoxQx6CyDszOw2dDSAqj7aGzU3eSNGwoAdr+tZTWCzWbz+fyIiIikpKRly5Y5OzsfP35cfXmJRILeJb/66is0iK8tbm7Q0gJNTb0uLjo3WegGOjlBayuw2aBNp6x3DCosJhPGjoWGBiAIYLFAIgG5HCh9PSQNDcfNzaP9/V8C+IZC9fDw8PDw8NOnTwcHB6MEZTW89957bW1tHR0d4eHhf/3rXyn5C/7+a4TCbxsa0qZOfYGahXvI5dDSAiwWKBRAEODioo/OlTqGnhd1c4OGBhCLwckJbtyA5mbw8NDFXmNjo0wms7OjeN5pZ2dnS0uLubl5S0tLS0uLJlVQ4c7Ozj5D7Rpia9slk0mbHt7Skgo3boBSCa6uIBYDALi56WpQNwwsrO6JExV373a3tDTNnn2jsXF8c7OvzsICADdKt7W3t3fZsmVlZWXe3t5paWmaLEBtb29/9dVXy8rKFi9enJmZydb+LQy52qhzGFAnFtc8+6yLm5tra6tFUBB7wgQLHS3qhoGFtdbe/t8CQbJIdPbOncyzZ/93/bpvSIguBikLiyCIVatWHTlyhMvlZmdnT5w4UcOK2dnZM2bM+OWXX1577bW0tDQGg6HVdfUlrNL6+kVnz86fP/+ZuroEgSBu9uztOlrUDQMPkKJtgxobG/V1fykLa926dd98842VlVVWVpbmqgIAPz+/Y8eO2djYfP/995988om219X7B0f/6H80xiPGwMIib6te7q9IJEI7eWRmZmoYISFSUlK2bNliZmaWkZExffp0ba87bdq0I0eOcDiczZs3o8WuGtLS0pKVlQUA5eXlIt3mDvsIi1owoE8MONRB3N9VdtasWWhjqpiYGMqm0tPT7e3tAQBt/GJhYbFy5cry8vIhK/78888sFovBYHz77beUr04QxA8//MBkMplMpibH05WXl69cudLCwoJ02N7ePj09nfLVly1bBgD79+9HJ5D9+uuvlE3pBQMLSygUAoCvry/KXaG2Sr2zszMuLg49JwsWLDh+/PjixYtZ91+2Z8yYkZWVNdiRcWfOnEEn3nz++ee6fRSCIIht27YBAIfDycnJGaxMXl7enDlzUCjGZDLDw8MPHDiATpUGgNjYWA33fOsDyqjOyMhAK28rKyt1+Bx6wMDCkkqlAQEBlpaWYWFhbDY7LCysoqJCKwsCgSAoKAg1UXw+n1zCUFtbGxcXh45qBoAJEybw+fzOzk7VupcvXx41ahQAvPXWW/r6RAkJCQBgZ2dXUlKi+nuZTJaamorWXACAubl5bGzs5cuXz58/jwqkpqYibydOnNin7pBcvXp17ty5HA4nPDzcwsJi0qRJUqlUX5+IGoYUVk9Pz9q1a1FH4ObmRj7EL7zwgiandiuVSj6fj9qbgICA0tJSHo/n7Oysuld7R0cHn8/3uD+E4eTkxOPxWlpaCIKor693d3cHgCVLlvT29urrQymVSrQ1t4uLi0gkIgji1q1bfD6fDHqcnZ15PJ5IJOLz+Z6enmZmZvX19aiuUCicPHkyAJiZmfF4PE28Onv27AsvvIDuIYPBQFdhMplr166lNsWkL6gLq7Cw8MyZM4mJiSJKuY8ikejpp58GADabzePxFApFdXV1XFwcOcw4efLk1NTUwe6ORCKZM2cO2X0IBIInn3wSWfvhhx/6FJbJZGlpaVOmTEHlLS0tX375ZV9fX9T5dnd3U/BfDT09PX/5y18AwMvLKzY21vJ+Bs+UKVPS0tKEQuHbb7+N1l4DQGBgYGFhIVm3u7s7Li4OPWMRERFNg0wiKhSKrKysp+4fxYPavytXrqCHDa3jmDZtWnV1NQX/RSJRYmLimTNnVB3TFirCIr13cHBAz8ecOXPIJl0TDh06hPogT0/PPhUlEsnWrVvJ53vs2LE8Hq+trU21TG5uLnqd5nK5mZmZGRkZo0ePBgAPDw/1m1rl5eWR4Ze1tXVwcDBNXYZUKg0ODkYPCYPBCA8Pz8rKKioqio2NJQdR1QR/J0+eRMfcOTk5/fLLL6p/Qm0w2lEXABwdHT/44IM+B2oUFhb6+fkBgK2tbVpamuZuFxcXkx5yuVz0zFNrzrUWllgsRvNiDAZj2bJly5YtI9c5TZ8+/dChQ+oXfEql0lWrVqHyL774Ynt7+4DFUESCgicAsLGxWbVqlVAolMvlPB4PtfzPPvssCqTIsL2P/gajsrISRbi0bnWM3nN9fX0rKyuLi4tD7g/8mpubv/7660NuOtLc3IyaPQaDERcXJ5PJrl69+sEHH6A3XwAYP358/6iRpKOjA70nAsDixYtv3ryp5loKheLQoUPkOAuHw4mJiVm9ejW6z7Nnz6ZwEox2wjp16pSLiwt6UND2UV1dXXV1dTwej5yy9fb23rp164CKKS4uRlsRW1pa8vn8IS+nVCqzs7MjIyPJ8Atdnc1mb9y4saysTDVs1+qDrFy5EgB2796tVS2t2LVrFwCsWrWKIAiRSMRisVDr0tDQoKEFhUKxceNG1H64uLiQgVRkZGR2drYmR6OnpqaiPtfb2/vChQv9C0il0j179pCnK9rb28fFxVVWVqKD0Pp/3ZqjqbB6enrIpkJVwtu3b7ezs4uLi6utrU1NTQ0ICEAu2traxsXFXbt2DRVT7fsDAwM13CSIpKqqKi4uztzc3Nvbe8yYMXl5eYcPH0Zh+2OPPabJYBXit99+i4yMXLdu3YYNGwDgk08+0coNrVi3bh0AJCUloR+zs7MHa13UU1BQ4OTk5O3tbWZmhl4ktapeWVmJgss+/VpTUxOPxxt9fzWcn58fn88n24gdO3agYqodVFxcnObxqEbCqqurQ3Fi/06XbG85HE5sbGxxcfGpU6dUx2nmzJlz/Pjxv/3tbxSc6wPaXmHJkiUEQVy/fn3MmDGxsbFabXSWnZ0NAM8999zevXsB4LXXXqPmiSa8+uqrALBv3z7dTUVHRwMA+WVri2qj8Nxzz508ebJPqHfo0CEUXZFRzbJly8jqqo3CE088UVVVpclFhxaWanP6+++/9y+gGvGRjhYVFcXExKDcN/R/Cs1pH3JyclB7iX4Ui8XaWrhy5QoATJo06ZdffgGAyMhIXfxRD9pq68SJE7qbCgsLA4BTp06VlZU1NTVRi6aPHTuG8vHJLyUmJmbAhmDA97CioiKtwhh1wpJKpWjvKE0CwGvXriUkJKAz+wBg4sSJKSkp9fX1q1evNjMzs7e3p3wUIEl5eTmyTNlCe3s76qYvXbqEOmUdXVIDigrKysp0N4VioIqKCjRyQflNtrGx0d7e3szMbPXq1fX19SkpKeR0u52dXUJCAhm6DIhUKo2NjUXlFy1aNNiLF2JQYV25cgW9strY2KSmpmroulQq5fP53t7eABASEkIQxJ07d1B8rUmwqZ6bN28if3QxgoYA0IzvqFGjdHRJDej1TcfV1QjUYyCf7ezsKNtRKpVodvLOnTsEQaDwxsXFhcfjqVeJKmQP5ufnpyZWHlRYP/zwg52d3eTJkykMssnl8oMHD54+fRr9iJoxDccC1IMmPXQ5ZwvtroZ2SCNvsd7R4+N069YtALC2tr58+TIA+Pv7UzbV2tqKXv3Qj6dPnz548CCF3VBEIlFoaKitra2aY9IGFRaa1dJl7JXE398fALR9nRkQ1M1rO5+oyqxZswAgNzcXDWVRG5sekqqqKgDw9fXV3RQKACZMmIDePLQ6NaMPZWVlABAQEKC7VwUFBQAQHBw8WIFB87HQ0LZEItm7d+8777xTp8NyXX3lsunFlH4zwAZDj0lReky00t1CXV3dO++8s3fvXolEAmrTCQcVFnnfDx8+vHPnTvQIUgMLSy+mjEFYlZWVO3fuzMjIGNLU0MLS13eph4Uo+hCW3pOhB8Q4hYW+Ar1IU2/C0kUWRtViLViw4NSpU2vXrn1kwpJKpR9++CEK53UxpXsyux6laRQtFtlIULbQ3yvKFry8vMLDwz08PNDghV7a0f4gs+gS8fHx27Ztmzp1aklJCQVTeu8K9SJNoxAWfS3WypUr33333T///FMrI3K5/KOPPtq8ebODg0NycrLuXvWHz+c7ODhs2rTpo48+io+PR6M2Tz311IYNG5RKpVamyK+QhLJXeozShjY12OuiWCwGAAcHh6KiIgCYPHky5VdT5IQTtZ06Hqa+vh4Axo4dSxBEc3Mzmkdis9lRUVH5+fmaWLh27dqMGTNAJcFQd6/6g+bX0ORJSEhIeXk5mb4XHh4+WPregKDErOvXr+vuFZrS0erqfUC7fxUXF6PZa4lEMljJQYWlVCpR+gAaaHB0dKTsjUKhYLPZDAZDx1xNpVL5r3/9y9ra2traGs1I/vHHH6tWrUJDnQAwderU1NRUNSN+hw8fRnfE09NzyHMudaegoADNXtjZ2X333XcnT54cO3YsDJS+15/e3l40i2dlZWVjY/Ppp5/qmD8tk8kYDAabzdblWUKrw9EcAIfDUTP8q26u0MvLCwCqq6upyeLGjRu59zdsRG2m+qko9TQ3N6Mz3BgMBpm+PH78+N27d4tEItWEMB8fn61bt/aZ2VRdybNw4UK9TANoQkdHh+oKnKtXr/ZJ3+tf5e7du7t370ZDwQBgZWWFmrrnn3++ubmZsidIDe7u7ujH3NzcG1ruc9Td3Y2kWVlZCQDe3t5qCqsTFspJP3fuHFp0oFVuO8oRs7GxQUPbaLIzOTmZ2hTH6dOnUcYZl8s9evTo7du39+zZQ06gkulpu3btIr+PtWvXktX/+OMPNI+r4cy83iFX4Pj4+Pz++++bNm1is9mWlpZCoVC1WHNzc/+UyZs3b+bk5KCmztHR8fjx4xQcUCqVX331Fdyfwq+rq7O3t3d0dDx69KjmRlDf5eHh8dtvvwHAjBkz1BRWJ6zFixcDQHp6ekpKyq5duzScp+zu7o6PjyeXA9TU1KAUCScnJxgqobY/qrnIYWFhqumXvb29WVlZ4eHh6GvgcDiLFy++cOHCkSNHwsLCUOuoupInMDBQL9NK1OizAuf8+fPff/89+ddLly6p79PFYjHZYA/W1A2IapI36sgWLVpUVVWFsnoYDEZ8fLyGfVF7e/uuXbtSUlJ+/PFHAIiKilJTWJ2w0MaHaHs7DamqqkLHHqHQ+OLFi2SKRFRUFGr5kMg2bNgwZEKVSCRCidjqs/oHTAhTKBQSiYTcTVTblEA6UF2Bg0J4pVKpYToU8XDC3dSpU4ec5RSLxRs2bEDPM+oEo6KiyMSE/Px80lpQUJBWOb1oE8P4+Hg1ZdQJKzk5mcvlurq67tmzByVBq0c1JfD8+fP978Jgi5YGtEau5PHy8tJkCZBIJIqPjycTwry9vdEiIi6Xm5WVNWT1R0ZWVhZqORwcHLzvn0VhZ2cXHx+vSbBRWFiIEjRsbW337NkzYBk1C+n6PKsFBQVape/JZLJDhw55eXlxudzk5GQ1JYfIIH3llVeQc66urps3bx4s5u2zJqS6ulo1Ubp/u626DAv6LYTSKqGsDyghzMvLi8lk+vn59ek9jQS0AsfLy4vFYmmbDkWoTcDsv36//0OlGl3Mnj27qqqKvNtq1k21tbVt3ryZHFx95ZVX1Ds5hLAGXBjeP2vljTfegPur2DRf2nH16tX+q+DPnz+v1TM0IHK5PC8vr6GhQY9LnPVLb29vQ0NDXl4e5cOhVPuHs2fPqn5NFhYWA35Nqqh+TUePHk1LS7O1tQWAN954o09JTTYr6I+mq3TUPwoSiWTu3LlCoVA1aV/DXOS2trYtW7aQjwLKvkUbXGvo24ilqqoqODiYvGmoY9myZYuGgylisVh1kUt5efncuXNVxzzVdyzq0W5dYf/Omwy/KisrVcN2bZsKmUwWEhJibW2dmJiI1g9qVX3EgtYbJiYmWltbh4SEaP62iFB9ISBD+J6enkOHDmkYCg8GlSX2Eolkw4YNaKoBANzc3MjXjXHjxlFOOkWN1tWrV1ksFovF0ssBgsMbuVzOYrGYTGZtbS36IqjZIV8I0Mu76v4lGzZsUDNvowbqm4Kohl9oHGHIlTzqQYvQL1y4gAYDjTDoNjauX78OAC4uLr///jsAhIaGUjZFbn2AdoXQdrixP9Q3t+VwOC+//HJsbOypU6fYbHZPTw8awaOMm5tbUVFRU1OTq6trc3MzmViBGQwyDUb3DD40eLFgwQIOh6NQKCIiIrTdpbcPuu6ajLYS0NEIQjVRp6SkhKYUvOGE3vcd1bFpUMWIjpUjheXt4THF2ZnZ2qK9YX4AAAHGSURBVGpoj4wdRVubq7Ozh7u7sWxoq4KhT6ZQYbmv7ztBQaxbtyw9PEAspucE0mFFVF1dlFgMrq6t9fULg4LcfHwM7dEDjEhYTlwuCATA5QJ60cVd4ZCgW+Tmxj11iisQGPZUpj4YUVd47/iXxsYH/8Co576wHvzDaMDCMmVIPaElIYY+jUIVYxKWrS3Y2kJnJ6CNX7GwhgTpydoaOjvBzg5sbQ3t0AOMSVhwv9G6cwf8/MDfH2QyQztkxMhk4O8Pfn5w+zaAcfWDYOAzoftTWQm2tvdOXsVoiEIBYjHcvg2TJhnalQcYmbAAID8fcnKgqwvefx+GOuN0pGPE98rIukIAOHEC1q+HhARITze0K0aPEd8r4xMWZlhgrF1hZyckJhpb8250GPG9Mj5hYYYFuCvE0AIWFoYWsLAwtICFhaEFLCwMLWBhYWgBCwtDC1hYGFrAwsLQAhYWhhawsDC0gIWFoQUsLAwtYGFhaAELC0MLWFgYWsDCwtACFhaGFrCwMLSAhYWhBSwsDC1gYWFoAQsLQwtYWBhawMLC0AIWFoYWsLAwtICFhaEFLCwMLWBhYWgBCwtDC1hYGFrAwsLQAhYWhhb+H2CFAAaxGF+fAAAAAElFTkSuQmCC\" alt=\"Mol\"/></td>\n",
       "      <td>0</td>\n",
       "    </tr>\n",
       "  </tbody>\n",
       "</table>"
      ],
      "text/plain": [
       "           ID                                                                                                                                                                                                                                                                                                                                                                                                                                                                                                                                                                                                                                                                                                                                                                                                                                                                                                                                                                                                                                                                                                                                                                                                                                                                                                                                                                                                                                                                                                                                                                                                                                                                                                                                                                                                                                                                                                                                                                                                                                                                                                                                                                                                                                                                                                                                                                                                                                                                                                                                                                                                                                                                                                                                                                                                                                                                                                                                                                                                                                                                                                                                                                                                                                                                                                                                                                                                                                                                                                                                                                                                                                                                                                                                                                                                                                                                                                                                                                                                                                                                                                                                                                                                                                                                                                                                                                                                                                                                                                                                                                                                                                                                                                                                                                                                                                                                                                                                                                                                                                                                                                                                                                                                                                                                                                                                                                                                                                                                                                                                                                                                                                                                                                                                                                                                                                                                                                                                                                                                                                                                                                                                                                                                                                                                                                                                                                                                                                                                                                                                                                                                                                                                                                                                                                                                                                                                                                                                                                                                                                                                                                                                                                                                                                                                                                                                                                                                                                                                                                                                                                                                                                                                                                                                                                                                                                                                                                                                                                                                                                                                                                                                                                                                                                                                                                                                                                                                                                                                                                                                                                                                                                                                                                                                                                                                                                                                                                                                                                                                                                                                                                                                                                                                                                                                                                                                                                                                                                                                                                                                                                                                                                                                                                                                                                                                                                                                                                                                                                                                                                                                                                                                                                                                                                                                                                                                                                                                                                                                                                                                                                                                                                                                                                                                                                                                                                                                                                                                                                                                                                                                                                                                                                                                                                                                                                                                                                                                                                                                                                                                                                                                                                                                                                                                                                                                                                                                                                                                                                                                                                                                                                                                                                      ROMol class\n",
       "0  2475-33-4   <img src=\"data:image/png;base64,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\" alt=\"Mol\"/>     0"
      ]
     },
     "execution_count": 4,
     "metadata": {},
     "output_type": "execute_result"
    }
   ],
   "source": [
    "df.head(1)"
   ]
  },
  {
   "cell_type": "code",
   "execution_count": 5,
   "metadata": {},
   "outputs": [
    {
     "data": {
      "text/plain": [
       "6506"
      ]
     },
     "execution_count": 5,
     "metadata": {},
     "output_type": "execute_result"
    }
   ],
   "source": [
    "len(df)"
   ]
  },
  {
   "cell_type": "markdown",
   "metadata": {},
   "source": [
    "### Featurize the molecules using pre-trained Mol2vec model"
   ]
  },
  {
   "cell_type": "markdown",
   "metadata": {},
   "source": [
    "Load a pre-trained Mol2vec model which was trained on 20 million compounds downloaded from ZINC using:\n",
    "\n",
    "* radius 1\n",
    "* UNK to replace all identifiers that appear less than 4 times\n",
    "* skip-gram and window size of 10\n",
    "* resulting in 300 dimensional embeddings"
   ]
  },
  {
   "cell_type": "code",
   "execution_count": 6,
   "metadata": {
    "collapsed": true
   },
   "outputs": [],
   "source": [
    "model = word2vec.Word2Vec.load('models/model_300dim.pkl')"
   ]
  },
  {
   "cell_type": "markdown",
   "metadata": {},
   "source": [
    "Generate \"molecular sentences\" that are then used to featurize the molecules (i.e. vectors of identifiers are extracted from Mol2vec model and summed up)"
   ]
  },
  {
   "cell_type": "code",
   "execution_count": 7,
   "metadata": {
    "collapsed": true
   },
   "outputs": [],
   "source": [
    "df['sentence'] = df.apply(lambda x: MolSentence(mol2alt_sentence(x['ROMol'], 1)), axis=1)\n",
    "df['mol2vec'] = [DfVec(x) for x in sentences2vec(df['sentence'], model, unseen='UNK')]"
   ]
  },
  {
   "cell_type": "markdown",
   "metadata": {},
   "source": [
    "Extract the training data from the data frame"
   ]
  },
  {
   "cell_type": "code",
   "execution_count": 8,
   "metadata": {
    "collapsed": true
   },
   "outputs": [],
   "source": [
    "X = np.array([x.vec for x in df['mol2vec']])\n",
    "y = np.array(df['class'].astype(int))"
   ]
  },
  {
   "cell_type": "markdown",
   "metadata": {},
   "source": [
    "### Train and validate Random Forest model trained using Mol2vec vectors"
   ]
  },
  {
   "cell_type": "markdown",
   "metadata": {},
   "source": [
    "Performance validation is done by stratified K-fold (4-fold CV) with shuffling"
   ]
  },
  {
   "cell_type": "code",
   "execution_count": 9,
   "metadata": {
    "collapsed": true
   },
   "outputs": [],
   "source": [
    "from sklearn.model_selection import StratifiedKFold\n",
    "from sklearn.ensemble import RandomForestClassifier"
   ]
  },
  {
   "cell_type": "code",
   "execution_count": 10,
   "metadata": {
    "collapsed": true
   },
   "outputs": [],
   "source": [
    "kf = StratifiedKFold(n_splits=4, shuffle=True, random_state=0)"
   ]
  },
  {
   "cell_type": "code",
   "execution_count": 11,
   "metadata": {
    "collapsed": true
   },
   "outputs": [],
   "source": [
    "clf = RandomForestClassifier(n_estimators=100, random_state=0)"
   ]
  },
  {
   "cell_type": "code",
   "execution_count": 12,
   "metadata": {
    "collapsed": true
   },
   "outputs": [],
   "source": [
    "y_values = []\n",
    "predictions = []\n",
    "probas = []\n",
    "for train, test in kf.split(X, y):\n",
    "    clf.fit(X[train], y[train])\n",
    "    predictions.append(clf.predict(X[test]))\n",
    "    probas.append(clf.predict_proba(X[test]).T[1]) # Probabilities for class 1\n",
    "    y_values.append(y[test])"
   ]
  },
  {
   "cell_type": "markdown",
   "metadata": {},
   "source": [
    "Calculate performance metrics and plot them (ROC AUC)"
   ]
  },
  {
   "cell_type": "code",
   "execution_count": 13,
   "metadata": {
    "collapsed": true
   },
   "outputs": [],
   "source": [
    "from matplotlib import pyplot as plt\n",
    "from sklearn.metrics import roc_curve, roc_auc_score"
   ]
  },
  {
   "cell_type": "code",
   "execution_count": 14,
   "metadata": {
    "collapsed": true
   },
   "outputs": [],
   "source": [
    "aucs = [roc_auc_score(y, proba) for y, proba in zip(y_values, probas)]"
   ]
  },
  {
   "cell_type": "code",
   "execution_count": 15,
   "metadata": {},
   "outputs": [
    {
     "data": {
      "text/plain": [
       "(0.86203408715705998, 0.0044217056810015899)"
      ]
     },
     "execution_count": 15,
     "metadata": {},
     "output_type": "execute_result"
    }
   ],
   "source": [
    "np.mean(aucs), np.std(aucs)"
   ]
  },
  {
   "cell_type": "code",
   "execution_count": 16,
   "metadata": {},
   "outputs": [
    {
     "data": {
      "image/png": "[encoded data removed]",
      "text/plain": [
       "<matplotlib.figure.Figure at 0x7f13e6eec400>"
      ]
     },
     "metadata": {},
     "output_type": "display_data"
    }
   ],
   "source": [
    "f, ((p1, p2, p3, p4)) = plt.subplots(1,4, squeeze=True, sharex=True, sharey=True, \n",
    "                                                    figsize=(12,3))\n",
    "\n",
    "for y,proba,ax in zip(y_values, probas, (p1,p2,p3,p4)):\n",
    "    tpr, fpr, _ = roc_curve(y, proba)\n",
    "    auc = roc_auc_score(y, proba)\n",
    "    ax.plot(tpr, fpr)\n",
    "    ax.get_xaxis().set_visible(False)\n",
    "    ax.get_yaxis().set_visible(False)\n",
    "    ax.text(0.95, 0.01, u\"%0.2f\" % auc,\n",
    "            verticalalignment='bottom', horizontalalignment='right',\n",
    "            transform=ax.transAxes, weight='bold',\n",
    "            fontsize=10)\n",
    "plt.show()"
   ]
  },
  {
   "cell_type": "markdown",
   "metadata": {
    "collapsed": true
   },
   "source": [
    "### Featurize molecules from the command line"
   ]
  },
  {
   "cell_type": "markdown",
   "metadata": {},
   "source": [
    "Alternative to using Python functions is the command line `mol2vec` application. Type `mol2vec -h` for more information."
   ]
  },
  {
   "cell_type": "markdown",
   "metadata": {},
   "source": [
    "Calling command line application from Jupyter notebook"
   ]
  },
  {
   "cell_type": "code",
   "execution_count": 17,
   "metadata": {},
   "outputs": [
    {
     "name": "stdout",
     "output_type": "stream",
     "text": [
      "Featurizing molecules.\n",
      "Loading molecules.\n",
      "Keeping only molecules that can be processed by RDKit.\n",
      "Featurizing molecules.\n",
      "Done!\n"
     ]
    }
   ],
   "source": [
    "!mol2vec featurize -i data/ames.sdf -o data/ames.csv -m models/model_300dim.pkl --uncommon UNK -r 1 "
   ]
  },
  {
   "cell_type": "markdown",
   "metadata": {},
   "source": [
    "Load embedding generated by the `mol2vec` application"
   ]
  },
  {
   "cell_type": "code",
   "execution_count": 18,
   "metadata": {
    "collapsed": true
   },
   "outputs": [],
   "source": [
    "df_2 = pd.read_csv('data/ames.csv', index_col=[0])"
   ]
  },
  {
   "cell_type": "markdown",
   "metadata": {},
   "source": [
    "Not that unlike above where Mol2vec vectors are stored is data frame cells as DfVec objects command line application stores each dimension of the vectors as separate column (*mol2vec-000* to *mol2vec-n-dimensions*)."
   ]
  },
  {
   "cell_type": "code",
   "execution_count": 19,
   "metadata": {},
   "outputs": [
    {
     "data": {
      "text/html": [
       "<table border=\"1\" class=\"dataframe\">\n",
       "  <thead>\n",
       "    <tr style=\"text-align: right;\">\n",
       "      <th></th>\n",
       "      <th>ID</th>\n",
       "      <th>class</th>\n",
       "      <th>Smiles</th>\n",
       "      <th>mol2vec-000</th>\n",
       "      <th>mol2vec-001</th>\n",
       "      <th>mol2vec-002</th>\n",
       "      <th>mol2vec-003</th>\n",
       "      <th>mol2vec-004</th>\n",
       "      <th>mol2vec-005</th>\n",
       "      <th>mol2vec-006</th>\n",
       "      <th>mol2vec-007</th>\n",
       "      <th>mol2vec-008</th>\n",
       "      <th>mol2vec-009</th>\n",
       "      <th>mol2vec-010</th>\n",
       "      <th>mol2vec-011</th>\n",
       "      <th>mol2vec-012</th>\n",
       "      <th>mol2vec-013</th>\n",
       "      <th>mol2vec-014</th>\n",
       "      <th>mol2vec-015</th>\n",
       "      <th>mol2vec-016</th>\n",
       "      <th>mol2vec-017</th>\n",
       "      <th>mol2vec-018</th>\n",
       "      <th>mol2vec-019</th>\n",
       "      <th>mol2vec-020</th>\n",
       "      <th>mol2vec-021</th>\n",
       "      <th>mol2vec-022</th>\n",
       "      <th>mol2vec-023</th>\n",
       "      <th>mol2vec-024</th>\n",
       "      <th>mol2vec-025</th>\n",
       "      <th>mol2vec-026</th>\n",
       "      <th>mol2vec-027</th>\n",
       "      <th>mol2vec-028</th>\n",
       "      <th>mol2vec-029</th>\n",
       "      <th>mol2vec-030</th>\n",
       "      <th>mol2vec-031</th>\n",
       "      <th>mol2vec-032</th>\n",
       "      <th>mol2vec-033</th>\n",
       "      <th>mol2vec-034</th>\n",
       "      <th>mol2vec-035</th>\n",
       "      <th>mol2vec-036</th>\n",
       "      <th>mol2vec-037</th>\n",
       "      <th>mol2vec-038</th>\n",
       "      <th>mol2vec-039</th>\n",
       "      <th>mol2vec-040</th>\n",
       "      <th>mol2vec-041</th>\n",
       "      <th>mol2vec-042</th>\n",
       "      <th>mol2vec-043</th>\n",
       "      <th>mol2vec-044</th>\n",
       "      <th>mol2vec-045</th>\n",
       "      <th>mol2vec-046</th>\n",
       "      <th>mol2vec-047</th>\n",
       "      <th>mol2vec-048</th>\n",
       "      <th>mol2vec-049</th>\n",
       "      <th>mol2vec-050</th>\n",
       "      <th>mol2vec-051</th>\n",
       "      <th>mol2vec-052</th>\n",
       "      <th>mol2vec-053</th>\n",
       "      <th>mol2vec-054</th>\n",
       "      <th>mol2vec-055</th>\n",
       "      <th>mol2vec-056</th>\n",
       "      <th>mol2vec-057</th>\n",
       "      <th>mol2vec-058</th>\n",
       "      <th>mol2vec-059</th>\n",
       "      <th>mol2vec-060</th>\n",
       "      <th>mol2vec-061</th>\n",
       "      <th>mol2vec-062</th>\n",
       "      <th>mol2vec-063</th>\n",
       "      <th>mol2vec-064</th>\n",
       "      <th>mol2vec-065</th>\n",
       "      <th>mol2vec-066</th>\n",
       "      <th>mol2vec-067</th>\n",
       "      <th>mol2vec-068</th>\n",
       "      <th>mol2vec-069</th>\n",
       "      <th>mol2vec-070</th>\n",
       "      <th>mol2vec-071</th>\n",
       "      <th>mol2vec-072</th>\n",
       "      <th>mol2vec-073</th>\n",
       "      <th>mol2vec-074</th>\n",
       "      <th>mol2vec-075</th>\n",
       "      <th>mol2vec-076</th>\n",
       "      <th>mol2vec-077</th>\n",
       "      <th>mol2vec-078</th>\n",
       "      <th>mol2vec-079</th>\n",
       "      <th>mol2vec-080</th>\n",
       "      <th>mol2vec-081</th>\n",
       "      <th>mol2vec-082</th>\n",
       "      <th>mol2vec-083</th>\n",
       "      <th>mol2vec-084</th>\n",
       "      <th>mol2vec-085</th>\n",
       "      <th>mol2vec-086</th>\n",
       "      <th>mol2vec-087</th>\n",
       "      <th>mol2vec-088</th>\n",
       "      <th>mol2vec-089</th>\n",
       "      <th>mol2vec-090</th>\n",
       "      <th>mol2vec-091</th>\n",
       "      <th>mol2vec-092</th>\n",
       "      <th>mol2vec-093</th>\n",
       "      <th>mol2vec-094</th>\n",
       "      <th>mol2vec-095</th>\n",
       "      <th>mol2vec-096</th>\n",
       "      <th>mol2vec-097</th>\n",
       "      <th>mol2vec-098</th>\n",
       "      <th>mol2vec-099</th>\n",
       "    </tr>\n",
       "  </thead>\n",
       "  <tbody>\n",
       "    <tr>\n",
       "      <th>0</th>\n",
       "      <td>2475-33-4</td>\n",
       "      <td>0</td>\n",
       "      <td>O=c1c2ccccc2c(=O)c2c1ccc1c2[nH]c2c3c(=O)c4ccccc4c(=O)c3c3[nH]c4c(ccc5c(=O)c6ccccc6c(=O)c54)c3c12</td>\n",
       "      <td>1.508495</td>\n",
       "      <td>16.190434</td>\n",
       "      <td>-14.119161</td>\n",
       "      <td>-9.726344</td>\n",
       "      <td>-21.809919</td>\n",
       "      <td>-6.156873</td>\n",
       "      <td>-14.111709</td>\n",
       "      <td>-17.807381</td>\n",
       "      <td>-6.918430</td>\n",
       "      <td>-22.019386</td>\n",
       "      <td>37.893082</td>\n",
       "      <td>-15.363530</td>\n",
       "      <td>0.826183</td>\n",
       "      <td>-15.695942</td>\n",
       "      <td>-14.276697</td>\n",
       "      <td>0.885753</td>\n",
       "      <td>-7.002637</td>\n",
       "      <td>18.922380</td>\n",
       "      <td>1.114347</td>\n",
       "      <td>-7.537972</td>\n",
       "      <td>-23.718891</td>\n",
       "      <td>18.226259</td>\n",
       "      <td>-21.002163</td>\n",
       "      <td>17.209488</td>\n",
       "      <td>7.468110</td>\n",
       "      <td>-3.545178</td>\n",
       "      <td>1.290942</td>\n",
       "      <td>-18.058281</td>\n",
       "      <td>0.321039</td>\n",
       "      <td>8.780219</td>\n",
       "      <td>4.362634</td>\n",
       "      <td>24.616972</td>\n",
       "      <td>41.665722</td>\n",
       "      <td>13.534548</td>\n",
       "      <td>-25.513752</td>\n",
       "      <td>-19.605495</td>\n",
       "      <td>21.018059</td>\n",
       "      <td>28.713505</td>\n",
       "      <td>-16.529842</td>\n",
       "      <td>25.678499</td>\n",
       "      <td>24.622299</td>\n",
       "      <td>-18.404888</td>\n",
       "      <td>2.160755</td>\n",
       "      <td>-11.676982</td>\n",
       "      <td>-7.866406</td>\n",
       "      <td>-24.687023</td>\n",
       "      <td>-19.845835</td>\n",
       "      <td>2.177311</td>\n",
       "      <td>37.311127</td>\n",
       "      <td>19.860867</td>\n",
       "      <td>7.197349</td>\n",
       "      <td>12.437116</td>\n",
       "      <td>3.282497</td>\n",
       "      <td>11.875668</td>\n",
       "      <td>6.812393</td>\n",
       "      <td>26.921173</td>\n",
       "      <td>-16.292723</td>\n",
       "      <td>-11.626889</td>\n",
       "      <td>11.431473</td>\n",
       "      <td>-2.098175</td>\n",
       "      <td>-5.489677</td>\n",
       "      <td>2.093878</td>\n",
       "      <td>27.250177</td>\n",
       "      <td>12.065416</td>\n",
       "      <td>7.379858</td>\n",
       "      <td>-16.753168</td>\n",
       "      <td>6.207857</td>\n",
       "      <td>35.563526</td>\n",
       "      <td>-12.520493</td>\n",
       "      <td>31.326872</td>\n",
       "      <td>0.438330</td>\n",
       "      <td>-18.576080</td>\n",
       "      <td>17.376793</td>\n",
       "      <td>2.976248</td>\n",
       "      <td>-18.113392</td>\n",
       "      <td>-11.361904</td>\n",
       "      <td>15.463422</td>\n",
       "      <td>21.931627</td>\n",
       "      <td>8.067935</td>\n",
       "      <td>-33.712868</td>\n",
       "      <td>25.160355</td>\n",
       "      <td>17.299822</td>\n",
       "      <td>18.786873</td>\n",
       "      <td>-14.851186</td>\n",
       "      <td>-43.918865</td>\n",
       "      <td>31.888794</td>\n",
       "      <td>-8.152823</td>\n",
       "      <td>53.270042</td>\n",
       "      <td>-1.094527</td>\n",
       "      <td>-4.297421</td>\n",
       "      <td>25.840403</td>\n",
       "      <td>20.213745</td>\n",
       "      <td>-6.010414</td>\n",
       "      <td>-26.472733</td>\n",
       "      <td>19.143162</td>\n",
       "      <td>-46.500988</td>\n",
       "      <td>6.726566</td>\n",
       "      <td>37.054325</td>\n",
       "      <td>-25.272833</td>\n",
       "      <td>-13.204696</td>\n",
       "    </tr>\n",
       "    <tr>\n",
       "      <th>1</th>\n",
       "      <td>105149-00-6</td>\n",
       "      <td>0</td>\n",
       "      <td>CC(=O)OC1(C(C)=O)CCC2C3C=C(Cl)C4=CC(=O)OCC4(C)C3CCC21C</td>\n",
       "      <td>-8.966455</td>\n",
       "      <td>9.104663</td>\n",
       "      <td>-7.976571</td>\n",
       "      <td>-16.271759</td>\n",
       "      <td>-8.041543</td>\n",
       "      <td>-11.308760</td>\n",
       "      <td>-10.655948</td>\n",
       "      <td>-7.588518</td>\n",
       "      <td>1.783487</td>\n",
       "      <td>-2.829623</td>\n",
       "      <td>14.464226</td>\n",
       "      <td>-15.046628</td>\n",
       "      <td>-1.645419</td>\n",
       "      <td>-4.858140</td>\n",
       "      <td>-7.622559</td>\n",
       "      <td>-7.922463</td>\n",
       "      <td>-4.475996</td>\n",
       "      <td>5.296366</td>\n",
       "      <td>-4.006516</td>\n",
       "      <td>-21.238514</td>\n",
       "      <td>-12.001178</td>\n",
       "      <td>24.830645</td>\n",
       "      <td>-17.268602</td>\n",
       "      <td>3.909588</td>\n",
       "      <td>20.541258</td>\n",
       "      <td>0.956757</td>\n",
       "      <td>-6.749233</td>\n",
       "      <td>-4.418837</td>\n",
       "      <td>23.610081</td>\n",
       "      <td>-6.082169</td>\n",
       "      <td>-7.483197</td>\n",
       "      <td>3.208025</td>\n",
       "      <td>14.079184</td>\n",
       "      <td>-3.309254</td>\n",
       "      <td>-14.329214</td>\n",
       "      <td>-6.618795</td>\n",
       "      <td>8.495410</td>\n",
       "      <td>11.881017</td>\n",
       "      <td>-12.764916</td>\n",
       "      <td>11.824277</td>\n",
       "      <td>8.845399</td>\n",
       "      <td>3.448039</td>\n",
       "      <td>7.107430</td>\n",
       "      <td>-7.130319</td>\n",
       "      <td>-8.986353</td>\n",
       "      <td>-5.519269</td>\n",
       "      <td>-20.537428</td>\n",
       "      <td>11.829369</td>\n",
       "      <td>24.178478</td>\n",
       "      <td>25.863245</td>\n",
       "      <td>9.694634</td>\n",
       "      <td>-6.950540</td>\n",
       "      <td>-8.792462</td>\n",
       "      <td>2.247250</td>\n",
       "      <td>-4.894259</td>\n",
       "      <td>2.227847</td>\n",
       "      <td>-2.983115</td>\n",
       "      <td>-2.301332</td>\n",
       "      <td>8.003473</td>\n",
       "      <td>1.260265</td>\n",
       "      <td>-4.420463</td>\n",
       "      <td>-8.187524</td>\n",
       "      <td>8.408403</td>\n",
       "      <td>0.599265</td>\n",
       "      <td>-22.527445</td>\n",
       "      <td>-16.909718</td>\n",
       "      <td>-1.344561</td>\n",
       "      <td>17.060337</td>\n",
       "      <td>-1.161264</td>\n",
       "      <td>13.063327</td>\n",
       "      <td>-7.443371</td>\n",
       "      <td>0.563754</td>\n",
       "      <td>18.825546</td>\n",
       "      <td>2.995440</td>\n",
       "      <td>-13.640258</td>\n",
       "      <td>-1.070554</td>\n",
       "      <td>-10.143273</td>\n",
       "      <td>3.756449</td>\n",
       "      <td>-10.807425</td>\n",
       "      <td>-7.486877</td>\n",
       "      <td>12.647701</td>\n",
       "      <td>13.398089</td>\n",
       "      <td>-0.030032</td>\n",
       "      <td>-6.138687</td>\n",
       "      <td>-12.674323</td>\n",
       "      <td>8.441009</td>\n",
       "      <td>-4.311833</td>\n",
       "      <td>21.088312</td>\n",
       "      <td>-8.426578</td>\n",
       "      <td>0.248262</td>\n",
       "      <td>28.123075</td>\n",
       "      <td>1.457259</td>\n",
       "      <td>-6.687270</td>\n",
       "      <td>-17.077105</td>\n",
       "      <td>27.455225</td>\n",
       "      <td>-20.962904</td>\n",
       "      <td>18.626863</td>\n",
       "      <td>9.318312</td>\n",
       "      <td>-20.484341</td>\n",
       "      <td>0.304023</td>\n",
       "    </tr>\n",
       "    <tr>\n",
       "      <th>2</th>\n",
       "      <td>108-78-1</td>\n",
       "      <td>0</td>\n",
       "      <td>Nc1nc(N)nc(N)n1</td>\n",
       "      <td>0.633942</td>\n",
       "      <td>-1.644197</td>\n",
       "      <td>0.024865</td>\n",
       "      <td>-3.244659</td>\n",
       "      <td>-4.360913</td>\n",
       "      <td>-2.608974</td>\n",
       "      <td>3.167715</td>\n",
       "      <td>-5.261040</td>\n",
       "      <td>-0.902429</td>\n",
       "      <td>-9.350870</td>\n",
       "      <td>7.629671</td>\n",
       "      <td>-8.225711</td>\n",
       "      <td>-2.775155</td>\n",
       "      <td>-3.911475</td>\n",
       "      <td>-0.116474</td>\n",
       "      <td>-3.360920</td>\n",
       "      <td>-2.432252</td>\n",
       "      <td>4.492410</td>\n",
       "      <td>-4.376824</td>\n",
       "      <td>0.507320</td>\n",
       "      <td>-0.675704</td>\n",
       "      <td>0.141628</td>\n",
       "      <td>-2.156520</td>\n",
       "      <td>2.213037</td>\n",
       "      <td>0.124711</td>\n",
       "      <td>0.548280</td>\n",
       "      <td>-3.024824</td>\n",
       "      <td>-2.906931</td>\n",
       "      <td>-1.639305</td>\n",
       "      <td>-2.958260</td>\n",
       "      <td>0.709627</td>\n",
       "      <td>1.209152</td>\n",
       "      <td>9.949347</td>\n",
       "      <td>0.168034</td>\n",
       "      <td>-0.882161</td>\n",
       "      <td>-6.418396</td>\n",
       "      <td>7.900039</td>\n",
       "      <td>0.998949</td>\n",
       "      <td>-7.578548</td>\n",
       "      <td>4.756392</td>\n",
       "      <td>6.111425</td>\n",
       "      <td>-3.382147</td>\n",
       "      <td>-3.199611</td>\n",
       "      <td>-4.581319</td>\n",
       "      <td>-1.864795</td>\n",
       "      <td>-10.065327</td>\n",
       "      <td>-6.299738</td>\n",
       "      <td>1.965715</td>\n",
       "      <td>7.079899</td>\n",
       "      <td>-3.490194</td>\n",
       "      <td>0.694833</td>\n",
       "      <td>4.674243</td>\n",
       "      <td>-0.703957</td>\n",
       "      <td>1.007943</td>\n",
       "      <td>1.300453</td>\n",
       "      <td>2.986419</td>\n",
       "      <td>2.812267</td>\n",
       "      <td>-5.383341</td>\n",
       "      <td>-2.318025</td>\n",
       "      <td>1.880532</td>\n",
       "      <td>0.517628</td>\n",
       "      <td>0.860196</td>\n",
       "      <td>1.563318</td>\n",
       "      <td>-2.024572</td>\n",
       "      <td>-1.837239</td>\n",
       "      <td>-5.295250</td>\n",
       "      <td>-2.370944</td>\n",
       "      <td>0.700132</td>\n",
       "      <td>1.558564</td>\n",
       "      <td>2.984877</td>\n",
       "      <td>0.374506</td>\n",
       "      <td>-2.800809</td>\n",
       "      <td>5.971030</td>\n",
       "      <td>1.662029</td>\n",
       "      <td>-1.611346</td>\n",
       "      <td>-2.624816</td>\n",
       "      <td>3.543594</td>\n",
       "      <td>2.884810</td>\n",
       "      <td>1.259007</td>\n",
       "      <td>-2.832372</td>\n",
       "      <td>5.299590</td>\n",
       "      <td>0.359050</td>\n",
       "      <td>-0.494145</td>\n",
       "      <td>-2.610221</td>\n",
       "      <td>-10.330975</td>\n",
       "      <td>5.699851</td>\n",
       "      <td>-1.170772</td>\n",
       "      <td>9.872135</td>\n",
       "      <td>-3.845798</td>\n",
       "      <td>-1.188537</td>\n",
       "      <td>3.220994</td>\n",
       "      <td>4.092978</td>\n",
       "      <td>-4.233821</td>\n",
       "      <td>-5.667136</td>\n",
       "      <td>7.030548</td>\n",
       "      <td>-8.476622</td>\n",
       "      <td>1.498323</td>\n",
       "      <td>4.754096</td>\n",
       "      <td>-6.638255</td>\n",
       "      <td>3.332640</td>\n",
       "    </tr>\n",
       "    <tr>\n",
       "      <th>3</th>\n",
       "      <td>2425-85-6</td>\n",
       "      <td>1</td>\n",
       "      <td>Cc1ccc(N=Nc2c(O)ccc3ccccc23)c([N+](=O)[O-])c1</td>\n",
       "      <td>1.158299</td>\n",
       "      <td>6.591636</td>\n",
       "      <td>-6.419204</td>\n",
       "      <td>-0.847509</td>\n",
       "      <td>-3.223229</td>\n",
       "      <td>-4.714003</td>\n",
       "      <td>-5.652231</td>\n",
       "      <td>-6.597387</td>\n",
       "      <td>-3.172735</td>\n",
       "      <td>-14.680034</td>\n",
       "      <td>18.163296</td>\n",
       "      <td>-9.108904</td>\n",
       "      <td>-0.135529</td>\n",
       "      <td>-7.087234</td>\n",
       "      <td>-8.773878</td>\n",
       "      <td>4.147762</td>\n",
       "      <td>-1.776971</td>\n",
       "      <td>10.536146</td>\n",
       "      <td>-1.941809</td>\n",
       "      <td>-5.959820</td>\n",
       "      <td>-10.717752</td>\n",
       "      <td>6.287766</td>\n",
       "      <td>-4.779114</td>\n",
       "      <td>2.492507</td>\n",
       "      <td>-0.116266</td>\n",
       "      <td>-3.471048</td>\n",
       "      <td>0.230081</td>\n",
       "      <td>-3.535187</td>\n",
       "      <td>-4.059210</td>\n",
       "      <td>5.115727</td>\n",
       "      <td>0.695004</td>\n",
       "      <td>12.512153</td>\n",
       "      <td>18.567114</td>\n",
       "      <td>4.558189</td>\n",
       "      <td>-5.220931</td>\n",
       "      <td>-9.315974</td>\n",
       "      <td>6.552407</td>\n",
       "      <td>9.292024</td>\n",
       "      <td>-6.186511</td>\n",
       "      <td>15.863928</td>\n",
       "      <td>8.578079</td>\n",
       "      <td>-13.898176</td>\n",
       "      <td>0.544833</td>\n",
       "      <td>-4.926528</td>\n",
       "      <td>-0.069947</td>\n",
       "      <td>-8.218355</td>\n",
       "      <td>-12.926032</td>\n",
       "      <td>4.887561</td>\n",
       "      <td>15.254446</td>\n",
       "      <td>9.503172</td>\n",
       "      <td>1.044803</td>\n",
       "      <td>1.188266</td>\n",
       "      <td>-3.653286</td>\n",
       "      <td>-1.775372</td>\n",
       "      <td>1.793545</td>\n",
       "      <td>11.065637</td>\n",
       "      <td>-5.374184</td>\n",
       "      <td>-1.508461</td>\n",
       "      <td>8.454731</td>\n",
       "      <td>2.812907</td>\n",
       "      <td>-2.133728</td>\n",
       "      <td>0.297929</td>\n",
       "      <td>11.945909</td>\n",
       "      <td>1.406155</td>\n",
       "      <td>1.254996</td>\n",
       "      <td>-2.205190</td>\n",
       "      <td>-1.996277</td>\n",
       "      <td>20.355236</td>\n",
       "      <td>-5.264329</td>\n",
       "      <td>16.090216</td>\n",
       "      <td>-3.483713</td>\n",
       "      <td>-7.610672</td>\n",
       "      <td>11.428273</td>\n",
       "      <td>-3.138803</td>\n",
       "      <td>-10.934579</td>\n",
       "      <td>-0.170727</td>\n",
       "      <td>5.043346</td>\n",
       "      <td>9.060934</td>\n",
       "      <td>10.439359</td>\n",
       "      <td>-15.213054</td>\n",
       "      <td>13.729849</td>\n",
       "      <td>8.519565</td>\n",
       "      <td>4.661149</td>\n",
       "      <td>-6.238580</td>\n",
       "      <td>-12.937531</td>\n",
       "      <td>11.972654</td>\n",
       "      <td>3.655874</td>\n",
       "      <td>22.087210</td>\n",
       "      <td>0.778747</td>\n",
       "      <td>-4.263062</td>\n",
       "      <td>15.409048</td>\n",
       "      <td>7.294171</td>\n",
       "      <td>-7.597449</td>\n",
       "      <td>-13.670885</td>\n",
       "      <td>5.762917</td>\n",
       "      <td>-26.247805</td>\n",
       "      <td>2.683187</td>\n",
       "      <td>18.541204</td>\n",
       "      <td>-7.003600</td>\n",
       "      <td>-2.620777</td>\n",
       "    </tr>\n",
       "    <tr>\n",
       "      <th>4</th>\n",
       "      <td>67019-24-3</td>\n",
       "      <td>0</td>\n",
       "      <td>CC(C)CC(=O)Nc1snc2ccccc12</td>\n",
       "      <td>3.742178</td>\n",
       "      <td>-0.407627</td>\n",
       "      <td>-0.449802</td>\n",
       "      <td>-0.125098</td>\n",
       "      <td>-4.402523</td>\n",
       "      <td>-6.228172</td>\n",
       "      <td>-5.155148</td>\n",
       "      <td>-3.884524</td>\n",
       "      <td>-4.589495</td>\n",
       "      <td>-7.386184</td>\n",
       "      <td>9.536822</td>\n",
       "      <td>-8.815888</td>\n",
       "      <td>3.152429</td>\n",
       "      <td>-1.042846</td>\n",
       "      <td>-6.679306</td>\n",
       "      <td>-7.133759</td>\n",
       "      <td>-2.112803</td>\n",
       "      <td>1.695312</td>\n",
       "      <td>-1.295218</td>\n",
       "      <td>-4.131323</td>\n",
       "      <td>-3.433423</td>\n",
       "      <td>8.200365</td>\n",
       "      <td>-4.832393</td>\n",
       "      <td>5.688425</td>\n",
       "      <td>0.392643</td>\n",
       "      <td>-4.656780</td>\n",
       "      <td>-3.017113</td>\n",
       "      <td>-6.368497</td>\n",
       "      <td>2.571816</td>\n",
       "      <td>-1.114394</td>\n",
       "      <td>1.987674</td>\n",
       "      <td>5.836285</td>\n",
       "      <td>9.930663</td>\n",
       "      <td>0.576648</td>\n",
       "      <td>-8.182691</td>\n",
       "      <td>-7.926316</td>\n",
       "      <td>11.987842</td>\n",
       "      <td>7.461829</td>\n",
       "      <td>-7.413772</td>\n",
       "      <td>9.434924</td>\n",
       "      <td>6.943869</td>\n",
       "      <td>-5.840694</td>\n",
       "      <td>2.188337</td>\n",
       "      <td>-1.213809</td>\n",
       "      <td>-1.267348</td>\n",
       "      <td>-6.415910</td>\n",
       "      <td>-12.763770</td>\n",
       "      <td>4.197602</td>\n",
       "      <td>11.105860</td>\n",
       "      <td>3.219494</td>\n",
       "      <td>5.200491</td>\n",
       "      <td>6.853239</td>\n",
       "      <td>-0.297425</td>\n",
       "      <td>-2.021576</td>\n",
       "      <td>3.504717</td>\n",
       "      <td>4.880120</td>\n",
       "      <td>-1.906763</td>\n",
       "      <td>-0.682123</td>\n",
       "      <td>1.466134</td>\n",
       "      <td>-1.076611</td>\n",
       "      <td>-4.127983</td>\n",
       "      <td>0.253704</td>\n",
       "      <td>5.575759</td>\n",
       "      <td>2.640352</td>\n",
       "      <td>-1.724578</td>\n",
       "      <td>-4.859989</td>\n",
       "      <td>-1.674151</td>\n",
       "      <td>10.597035</td>\n",
       "      <td>-2.822167</td>\n",
       "      <td>7.438487</td>\n",
       "      <td>-3.465208</td>\n",
       "      <td>-7.727459</td>\n",
       "      <td>7.008029</td>\n",
       "      <td>-5.273168</td>\n",
       "      <td>-4.902724</td>\n",
       "      <td>-2.510251</td>\n",
       "      <td>3.157065</td>\n",
       "      <td>0.959904</td>\n",
       "      <td>0.054119</td>\n",
       "      <td>-6.662788</td>\n",
       "      <td>7.199432</td>\n",
       "      <td>3.731157</td>\n",
       "      <td>5.038445</td>\n",
       "      <td>-3.185246</td>\n",
       "      <td>-13.408323</td>\n",
       "      <td>7.050294</td>\n",
       "      <td>0.315903</td>\n",
       "      <td>18.417717</td>\n",
       "      <td>0.165342</td>\n",
       "      <td>-3.486806</td>\n",
       "      <td>11.872545</td>\n",
       "      <td>0.658384</td>\n",
       "      <td>2.774326</td>\n",
       "      <td>-9.590516</td>\n",
       "      <td>2.786598</td>\n",
       "      <td>-12.115311</td>\n",
       "      <td>4.195361</td>\n",
       "      <td>14.259384</td>\n",
       "      <td>-10.298759</td>\n",
       "      <td>-1.795769</td>\n",
       "    </tr>\n",
       "  </tbody>\n",
       "</table>"
      ],
      "text/plain": [
       "             ID  class                                                                                            Smiles  mol2vec-000  mol2vec-001  mol2vec-002  mol2vec-003  mol2vec-004  mol2vec-005  mol2vec-006  mol2vec-007  mol2vec-008  mol2vec-009  mol2vec-010  mol2vec-011  mol2vec-012  mol2vec-013  mol2vec-014  mol2vec-015  mol2vec-016  mol2vec-017  mol2vec-018  mol2vec-019  mol2vec-020  mol2vec-021  mol2vec-022  mol2vec-023  mol2vec-024  mol2vec-025  mol2vec-026  mol2vec-027  mol2vec-028  mol2vec-029  mol2vec-030  mol2vec-031  mol2vec-032  mol2vec-033  mol2vec-034  mol2vec-035  mol2vec-036  mol2vec-037  mol2vec-038  mol2vec-039  mol2vec-040  mol2vec-041  mol2vec-042  mol2vec-043  mol2vec-044  mol2vec-045  mol2vec-046  mol2vec-047  mol2vec-048  mol2vec-049  mol2vec-050  mol2vec-051  mol2vec-052  mol2vec-053  mol2vec-054  mol2vec-055  mol2vec-056  mol2vec-057  mol2vec-058  mol2vec-059  mol2vec-060  mol2vec-061  mol2vec-062  mol2vec-063  mol2vec-064  mol2vec-065  mol2vec-066  mol2vec-067  mol2vec-068  mol2vec-069  mol2vec-070  mol2vec-071  mol2vec-072  mol2vec-073  mol2vec-074  mol2vec-075  mol2vec-076  mol2vec-077  mol2vec-078  mol2vec-079  mol2vec-080  mol2vec-081  mol2vec-082  mol2vec-083  mol2vec-084  mol2vec-085  mol2vec-086  mol2vec-087  mol2vec-088  mol2vec-089  mol2vec-090  mol2vec-091  mol2vec-092  mol2vec-093  mol2vec-094  mol2vec-095  mol2vec-096  mol2vec-097  mol2vec-098  mol2vec-099\n",
       "0    2475-33-4       0  O=c1c2ccccc2c(=O)c2c1ccc1c2[nH]c2c3c(=O)c4ccccc4c(=O)c3c3[nH]c4c(ccc5c(=O)c6ccccc6c(=O)c54)c3c12     1.508495    16.190434   -14.119161    -9.726344   -21.809919    -6.156873   -14.111709   -17.807381    -6.918430   -22.019386    37.893082   -15.363530     0.826183   -15.695942   -14.276697     0.885753    -7.002637    18.922380     1.114347    -7.537972   -23.718891    18.226259   -21.002163    17.209488     7.468110    -3.545178     1.290942   -18.058281     0.321039     8.780219     4.362634    24.616972    41.665722    13.534548   -25.513752   -19.605495    21.018059    28.713505   -16.529842    25.678499    24.622299   -18.404888     2.160755   -11.676982    -7.866406   -24.687023   -19.845835     2.177311    37.311127    19.860867     7.197349    12.437116     3.282497    11.875668     6.812393    26.921173   -16.292723   -11.626889    11.431473    -2.098175    -5.489677     2.093878    27.250177    12.065416     7.379858   -16.753168     6.207857    35.563526   -12.520493    31.326872     0.438330   -18.576080    17.376793     2.976248   -18.113392   -11.361904    15.463422    21.931627     8.067935   -33.712868    25.160355    17.299822    18.786873   -14.851186   -43.918865    31.888794    -8.152823    53.270042    -1.094527    -4.297421    25.840403    20.213745    -6.010414   -26.472733    19.143162   -46.500988     6.726566    37.054325   -25.272833   -13.204696\n",
       "1  105149-00-6       0                                            CC(=O)OC1(C(C)=O)CCC2C3C=C(Cl)C4=CC(=O)OCC4(C)C3CCC21C    -8.966455     9.104663    -7.976571   -16.271759    -8.041543   -11.308760   -10.655948    -7.588518     1.783487    -2.829623    14.464226   -15.046628    -1.645419    -4.858140    -7.622559    -7.922463    -4.475996     5.296366    -4.006516   -21.238514   -12.001178    24.830645   -17.268602     3.909588    20.541258     0.956757    -6.749233    -4.418837    23.610081    -6.082169    -7.483197     3.208025    14.079184    -3.309254   -14.329214    -6.618795     8.495410    11.881017   -12.764916    11.824277     8.845399     3.448039     7.107430    -7.130319    -8.986353    -5.519269   -20.537428    11.829369    24.178478    25.863245     9.694634    -6.950540    -8.792462     2.247250    -4.894259     2.227847    -2.983115    -2.301332     8.003473     1.260265    -4.420463    -8.187524     8.408403     0.599265   -22.527445   -16.909718    -1.344561    17.060337    -1.161264    13.063327    -7.443371     0.563754    18.825546     2.995440   -13.640258    -1.070554   -10.143273     3.756449   -10.807425    -7.486877    12.647701    13.398089    -0.030032    -6.138687   -12.674323     8.441009    -4.311833    21.088312    -8.426578     0.248262    28.123075     1.457259    -6.687270   -17.077105    27.455225   -20.962904    18.626863     9.318312   -20.484341     0.304023\n",
       "2     108-78-1       0                                                                                   Nc1nc(N)nc(N)n1     0.633942    -1.644197     0.024865    -3.244659    -4.360913    -2.608974     3.167715    -5.261040    -0.902429    -9.350870     7.629671    -8.225711    -2.775155    -3.911475    -0.116474    -3.360920    -2.432252     4.492410    -4.376824     0.507320    -0.675704     0.141628    -2.156520     2.213037     0.124711     0.548280    -3.024824    -2.906931    -1.639305    -2.958260     0.709627     1.209152     9.949347     0.168034    -0.882161    -6.418396     7.900039     0.998949    -7.578548     4.756392     6.111425    -3.382147    -3.199611    -4.581319    -1.864795   -10.065327    -6.299738     1.965715     7.079899    -3.490194     0.694833     4.674243    -0.703957     1.007943     1.300453     2.986419     2.812267    -5.383341    -2.318025     1.880532     0.517628     0.860196     1.563318    -2.024572    -1.837239    -5.295250    -2.370944     0.700132     1.558564     2.984877     0.374506    -2.800809     5.971030     1.662029    -1.611346    -2.624816     3.543594     2.884810     1.259007    -2.832372     5.299590     0.359050    -0.494145    -2.610221   -10.330975     5.699851    -1.170772     9.872135    -3.845798    -1.188537     3.220994     4.092978    -4.233821    -5.667136     7.030548    -8.476622     1.498323     4.754096    -6.638255     3.332640\n",
       "3    2425-85-6       1                                                     Cc1ccc(N=Nc2c(O)ccc3ccccc23)c([N+](=O)[O-])c1     1.158299     6.591636    -6.419204    -0.847509    -3.223229    -4.714003    -5.652231    -6.597387    -3.172735   -14.680034    18.163296    -9.108904    -0.135529    -7.087234    -8.773878     4.147762    -1.776971    10.536146    -1.941809    -5.959820   -10.717752     6.287766    -4.779114     2.492507    -0.116266    -3.471048     0.230081    -3.535187    -4.059210     5.115727     0.695004    12.512153    18.567114     4.558189    -5.220931    -9.315974     6.552407     9.292024    -6.186511    15.863928     8.578079   -13.898176     0.544833    -4.926528    -0.069947    -8.218355   -12.926032     4.887561    15.254446     9.503172     1.044803     1.188266    -3.653286    -1.775372     1.793545    11.065637    -5.374184    -1.508461     8.454731     2.812907    -2.133728     0.297929    11.945909     1.406155     1.254996    -2.205190    -1.996277    20.355236    -5.264329    16.090216    -3.483713    -7.610672    11.428273    -3.138803   -10.934579    -0.170727     5.043346     9.060934    10.439359   -15.213054    13.729849     8.519565     4.661149    -6.238580   -12.937531    11.972654     3.655874    22.087210     0.778747    -4.263062    15.409048     7.294171    -7.597449   -13.670885     5.762917   -26.247805     2.683187    18.541204    -7.003600    -2.620777\n",
       "4   67019-24-3       0                                                                         CC(C)CC(=O)Nc1snc2ccccc12     3.742178    -0.407627    -0.449802    -0.125098    -4.402523    -6.228172    -5.155148    -3.884524    -4.589495    -7.386184     9.536822    -8.815888     3.152429    -1.042846    -6.679306    -7.133759    -2.112803     1.695312    -1.295218    -4.131323    -3.433423     8.200365    -4.832393     5.688425     0.392643    -4.656780    -3.017113    -6.368497     2.571816    -1.114394     1.987674     5.836285     9.930663     0.576648    -8.182691    -7.926316    11.987842     7.461829    -7.413772     9.434924     6.943869    -5.840694     2.188337    -1.213809    -1.267348    -6.415910   -12.763770     4.197602    11.105860     3.219494     5.200491     6.853239    -0.297425    -2.021576     3.504717     4.880120    -1.906763    -0.682123     1.466134    -1.076611    -4.127983     0.253704     5.575759     2.640352    -1.724578    -4.859989    -1.674151    10.597035    -2.822167     7.438487    -3.465208    -7.727459     7.008029    -5.273168    -4.902724    -2.510251     3.157065     0.959904     0.054119    -6.662788     7.199432     3.731157     5.038445    -3.185246   -13.408323     7.050294     0.315903    18.417717     0.165342    -3.486806    11.872545     0.658384     2.774326    -9.590516     2.786598   -12.115311     4.195361    14.259384   -10.298759    -1.795769"
      ]
     },
     "execution_count": 19,
     "metadata": {},
     "output_type": "execute_result"
    }
   ],
   "source": [
    "df_2.head()"
   ]
  },
  {
   "cell_type": "markdown",
   "metadata": {},
   "source": [
    "Extracting features for the machine learning"
   ]
  },
  {
   "cell_type": "code",
   "execution_count": 20,
   "metadata": {
    "collapsed": true
   },
   "outputs": [],
   "source": [
    "X = np.array(df_2[[x for x in df_2.columns if 'mol2vec' in x]])"
   ]
  },
  {
   "cell_type": "code",
   "execution_count": 21,
   "metadata": {},
   "outputs": [
    {
     "data": {
      "text/plain": [
       "(6506, 100)"
      ]
     },
     "execution_count": 21,
     "metadata": {},
     "output_type": "execute_result"
    }
   ],
   "source": [
    "X.shape"
   ]
  },
  {
   "cell_type": "code",
   "execution_count": null,
   "metadata": {
    "collapsed": true
   },
   "outputs": [],
   "source": []
  }
 ],
 "metadata": {
  "anaconda-cloud": {},
  "kernelspec": {
   "display_name": "Python 3",
   "language": "python",
   "name": "python3"
  },
  "language_info": {
   "codemirror_mode": {
    "name": "ipython",
    "version": 3
   },
   "file_extension": ".py",
   "mimetype": "text/x-python",
   "name": "python",
   "nbconvert_exporter": "python",
   "pygments_lexer": "ipython3",
   "version": "3.6.3"
  }
 },
 "nbformat": 4,
 "nbformat_minor": 1
}
